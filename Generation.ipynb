{
 "cells": [
  {
   "cell_type": "code",
   "execution_count": 28,
   "id": "5ed8757a-a84a-404a-9482-11248f989ab4",
   "metadata": {},
   "outputs": [],
   "source": [
    "from openai import OpenAI"
   ]
  },
  {
   "cell_type": "code",
   "execution_count": 29,
   "id": "81e35f66-e7b2-4289-9ee4-7d73adcda6f3",
   "metadata": {},
   "outputs": [],
   "source": [
    "client = OpenAI(api_key='sk-proj-iWF7NPCLLcflLpuTJ4pvT3BlbkFJMi2GmL5aa13raKaiV9Zn')"
   ]
  },
  {
   "cell_type": "code",
   "execution_count": 35,
   "id": "9d876f7e-652c-40fe-a544-534642a02fec",
   "metadata": {},
   "outputs": [],
   "source": [
    "q='The has already started, can I still enroll in data engineering zoomcamp?'"
   ]
  },
  {
   "cell_type": "code",
   "execution_count": 36,
   "id": "a7a46308-b5bb-4f72-ac11-402ba801a093",
   "metadata": {},
   "outputs": [],
   "source": [
    "response = client.chat.completions.create(\n",
    "    #model='gpt-3.5-turbo',\n",
    "    model='gpt-4o',\n",
    "    messages=[{\"role\":\"user\", \"content\":q}]\n",
    ")"
   ]
  },
  {
   "cell_type": "code",
   "execution_count": 42,
   "id": "afda6400-a00d-41eb-86a2-9d5c76f11e94",
   "metadata": {},
   "outputs": [
    {
     "data": {
      "text/plain": [
       "ChatCompletion(id='chatcmpl-9eUrJmc71ZZqr4T3LrZaN4a3ZcE8y', choices=[Choice(finish_reason='stop', index=0, logprobs=None, message=ChatCompletionMessage(content=\"If the Data Engineering Zoomcamp has already started, it's often still possible to enroll, depending on the specific policies and structure of the program. Here are a few steps you can take to see if late enrollment is an option:\\n\\n1. **Check Official Website or Platform**: Look for any information on the program's official website or the platform where the course is hosted. They might have a FAQ section or provide details about late enrollment.\\n\\n2. **Contact Support**: Reach out to the program organizers or support team. Explain your situation and ask if it's still possible to join the program late. They might have provisions for latecomers or can provide guidance on catching up.\\n\\n3. **Self-Paced Learning**: Some programs are designed to allow for flexible start times and are self-paced. If that's the case, you can start at any time and progress at your own speed.\\n\\n4. **Catch-Up Plan**: If late enrollment is permitted, ask if they have resources or a plan to help you catch up on missed content. This might include recorded sessions, reading materials, or special office hours.\\n\\n5. **Community Support**: Join any community forums or discussion groups associated with the Zoomcamp. Fellow participants and instructors often offer additional support and resources that can help you get up to speed.\\n\\nMake sure to act quickly, as the sooner you reach out, the better your chances of successfully catching up with the course material.\", role='assistant', function_call=None, tool_calls=None))], created=1719438769, model='gpt-4o-2024-05-13', object='chat.completion', system_fingerprint='fp_d576307f90', usage=CompletionUsage(completion_tokens=287, prompt_tokens=22, total_tokens=309))"
      ]
     },
     "execution_count": 42,
     "metadata": {},
     "output_type": "execute_result"
    }
   ],
   "source": [
    "response"
   ]
  },
  {
   "cell_type": "code",
   "execution_count": 45,
   "id": "cccca531-c3b3-4f2a-816b-38b964f302b0",
   "metadata": {},
   "outputs": [
    {
     "data": {
      "text/plain": [
       "\"If the Data Engineering Zoomcamp has already started, it's often still possible to enroll, depending on the specific policies and structure of the program. Here are a few steps you can take to see if late enrollment is an option:\\n\\n1. **Check Official Website or Platform**: Look for any information on the program's official website or the platform where the course is hosted. They might have a FAQ section or provide details about late enrollment.\\n\\n2. **Contact Support**: Reach out to the program organizers or support team. Explain your situation and ask if it's still possible to join the program late. They might have provisions for latecomers or can provide guidance on catching up.\\n\\n3. **Self-Paced Learning**: Some programs are designed to allow for flexible start times and are self-paced. If that's the case, you can start at any time and progress at your own speed.\\n\\n4. **Catch-Up Plan**: If late enrollment is permitted, ask if they have resources or a plan to help you catch up on missed content. This might include recorded sessions, reading materials, or special office hours.\\n\\n5. **Community Support**: Join any community forums or discussion groups associated with the Zoomcamp. Fellow participants and instructors often offer additional support and resources that can help you get up to speed.\\n\\nMake sure to act quickly, as the sooner you reach out, the better your chances of successfully catching up with the course material.\""
      ]
     },
     "execution_count": 45,
     "metadata": {},
     "output_type": "execute_result"
    }
   ],
   "source": [
    "response.choices[0].message.content"
   ]
  },
  {
   "cell_type": "code",
   "execution_count": 39,
   "id": "2e460efb-e6ad-4fbb-8a23-16b9501b9951",
   "metadata": {},
   "outputs": [],
   "source": [
    "prompt_template = \"\"\"\n",
    "You're a course teaching assistant. Answer the QUESTION based on the CONTEXT from the FAQ database.\n",
    "Use only the facts from the CONTEXT when answering the QUESTION.\n",
    "\n",
    "QUESTION: {question}\n",
    "\n",
    "CONTEXT: \n",
    "{context}\n",
    "\"\"\".strip()"
   ]
  },
  {
   "cell_type": "code",
   "execution_count": 41,
   "id": "5494edda-be9d-4079-86ae-77a1d23c2ec2",
   "metadata": {},
   "outputs": [
    {
     "ename": "NameError",
     "evalue": "name 'results' is not defined",
     "output_type": "error",
     "traceback": [
      "\u001b[0;31m---------------------------------------------------------------------------\u001b[0m",
      "\u001b[0;31mNameError\u001b[0m                                 Traceback (most recent call last)",
      "Cell \u001b[0;32mIn[41], line 3\u001b[0m\n\u001b[1;32m      1\u001b[0m context \u001b[38;5;241m=\u001b[39m \u001b[38;5;124m\"\u001b[39m\u001b[38;5;124m\"\u001b[39m\n\u001b[0;32m----> 3\u001b[0m \u001b[38;5;28;01mfor\u001b[39;00m doc \u001b[38;5;129;01min\u001b[39;00m \u001b[43mresults\u001b[49m:\n\u001b[1;32m      4\u001b[0m     context \u001b[38;5;241m=\u001b[39m context \u001b[38;5;241m+\u001b[39m \u001b[38;5;124mf\u001b[39m\u001b[38;5;124m\"\u001b[39m\u001b[38;5;124msection: \u001b[39m\u001b[38;5;132;01m{\u001b[39;00mdoc[\u001b[38;5;124m'\u001b[39m\u001b[38;5;124msection\u001b[39m\u001b[38;5;124m'\u001b[39m]\u001b[38;5;132;01m}\u001b[39;00m\u001b[38;5;130;01m\\n\u001b[39;00m\u001b[38;5;124mquestion: \u001b[39m\u001b[38;5;132;01m{\u001b[39;00mdoc[\u001b[38;5;124m'\u001b[39m\u001b[38;5;124mquestion\u001b[39m\u001b[38;5;124m'\u001b[39m]\u001b[38;5;132;01m}\u001b[39;00m\u001b[38;5;130;01m\\n\u001b[39;00m\u001b[38;5;124manswer: \u001b[39m\u001b[38;5;132;01m{\u001b[39;00mdoc[\u001b[38;5;124m'\u001b[39m\u001b[38;5;124mtext\u001b[39m\u001b[38;5;124m'\u001b[39m]\u001b[38;5;132;01m}\u001b[39;00m\u001b[38;5;130;01m\\n\u001b[39;00m\u001b[38;5;130;01m\\n\u001b[39;00m\u001b[38;5;124m\"\u001b[39m\n",
      "\u001b[0;31mNameError\u001b[0m: name 'results' is not defined"
     ]
    }
   ],
   "source": [
    "context = \"\"\n",
    "    \n",
    "for doc in results:\n",
    "    context = context + f\"section: {doc['section']}\\nquestion: {doc['question']}\\nanswer: {doc['text']}\\n\\n\""
   ]
  },
  {
   "cell_type": "code",
   "execution_count": null,
   "id": "3863c1a6-98da-4044-b356-20d7c2580da5",
   "metadata": {},
   "outputs": [],
   "source": [
    "prompt = prompt_template.format(question=query, context=context).strip()"
   ]
  }
 ],
 "metadata": {
  "kernelspec": {
   "display_name": "Python 3 (ipykernel)",
   "language": "python",
   "name": "python3"
  },
  "language_info": {
   "codemirror_mode": {
    "name": "ipython",
    "version": 3
   },
   "file_extension": ".py",
   "mimetype": "text/x-python",
   "name": "python",
   "nbconvert_exporter": "python",
   "pygments_lexer": "ipython3",
   "version": "3.10.13"
  }
 },
 "nbformat": 4,
 "nbformat_minor": 5
}
